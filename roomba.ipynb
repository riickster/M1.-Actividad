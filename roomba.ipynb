{
 "cells": [
  {
   "cell_type": "markdown",
   "metadata": {},
   "source": [
    "# Roomba Simulation"
   ]
  },
  {
   "cell_type": "code",
   "execution_count": 250,
   "metadata": {},
   "outputs": [],
   "source": [
    "import agentpy as ap\n",
    "import random\n",
    "import numpy as np\n",
    "import matplotlib.pyplot as plt\n",
    "from matplotlib import colors"
   ]
  },
  {
   "cell_type": "markdown",
   "metadata": {},
   "source": [
    "## Constants"
   ]
  },
  {
   "cell_type": "code",
   "execution_count": 251,
   "metadata": {},
   "outputs": [],
   "source": [
    "# Dirt Constants\n",
    "CLEAN = 0\n",
    "DIRTY = 1\n",
    "\n",
    "# Direction Constants\n",
    "STATIC = [0,0]\n",
    "UP = [0,1]\n",
    "DOWN = [0,-1]\n",
    "LEFT = [-1, 0]\n",
    "RIGHT = [1,0]\n",
    "UP_LEFT = [-1,-1]\n",
    "DOWN_LEFT = [-1,-1]\n",
    "UP_RIGHT = [1,1]\n",
    "DOWN_RIGHT = [1,-1]"
   ]
  },
  {
   "cell_type": "markdown",
   "metadata": {},
   "source": [
    "## Plotter Function"
   ]
  },
  {
   "cell_type": "code",
   "execution_count": 252,
   "metadata": {},
   "outputs": [],
   "source": [
    "# Creates a Plot from a user defined Data\n",
    "def plot(title, data):\n",
    "    \"\"\"\n",
    "    :pram str title: Title of the plot\n",
    "    :pram any data: Data that its going to be plot\n",
    "    \"\"\"\n",
    "    \n",
    "    cmap = colors.ListedColormap(['White','Sienna']) #Sets up the colour palette of the plot\n",
    "    plt.figure(figsize=(6,6)) # Specify the size of the plot\n",
    "    plt.title(title) # Sets the title of the plot based on the parameter title from the function plot\n",
    "    plt.pcolor(data[::-1],cmap=cmap, edgecolors='k', linewidths=3) # Populates the plot with the data based on the parameter data from the function plot\n",
    "    plt.xticks([]) # Deletes the labels in X axis\n",
    "    plt.yticks([]) # Deletes the labels in Y axis\n",
    "    plt.show() # Prints the Plot"
   ]
  },
  {
   "cell_type": "markdown",
   "metadata": {},
   "source": [
    "## Model definition"
   ]
  },
  {
   "cell_type": "code",
   "execution_count": 253,
   "metadata": {},
   "outputs": [],
   "source": [
    "# Defines a Roomba Agent that its going to be our vaccum robot\n",
    "class RoombaAgent(ap.Agent):\n",
    "    def setup(self):\n",
    "        self.position = [1,1] # Set initial position\n",
    "        self.moves = 0 # Step Counter\n",
    "\n",
    "    def move(self):\n",
    "        directions = [ UP, DOWN, LEFT, RIGHT, UP_LEFT, DOWN_LEFT, UP_RIGHT, DOWN_RIGHT ] # Set Posible Movements\n",
    "        random_direction = random.choice(directions) # Get a random direction for step\n",
    "        new_position = [self.position[0] + random_direction[0], self.position[1] + random_direction[1]] # Calculate new position adding the new coordinates from random_direction\n",
    "        if(all(-1 < i <= self.model.grid_size[x]-1 for x, i in enumerate(new_position))): # Checks if for every coordinate from new_positions its a valid coordinate\n",
    "            self.position = new_position # Replaces old position from new position\n",
    "            self.moves+=1 # Register a step\n"
   ]
  },
  {
   "cell_type": "code",
   "execution_count": 254,
   "metadata": {},
   "outputs": [],
   "source": [
    "# Variable that stores data from the simulation\n",
    "manual_results = {}\n",
    "\n",
    "class RoombaModel(ap.Model):\n",
    "    def setup(self):\n",
    "        self.grid_size = self.p.grid_size # Stores the size of the map based on the grid_size parameter\n",
    "        self.agents = ap.AgentList(self, self.p.agents, RoombaAgent) # Creates an AgentList based on the RoombaAgents, uses the agents parameter to set the number of agents created\n",
    "        self.dirty_cells = np.random.choice([CLEAN,DIRTY], self.grid_size, p=[1-self.p.dirty_percentage, self.p.dirty_percentage]) # Creates a random matrix with the size of the map that has the information about which cell its clean or dirty\n",
    "\n",
    "    def step(self):\n",
    "        cleaned_cells = 0 # Creates variable of the ammount of cleaned cells in that step\n",
    "        for agent in self.agents: # Iterates over all created agents\n",
    "            if(self.dirty_cells[tuple(agent.position)]): # Check if the agent position its clean or dirty\n",
    "                self.dirty_cells[tuple(agent.position)] = CLEAN # If its dirty, change the value of the cell to CLEAN\n",
    "                cleaned_cells+=1 # Augment the counter of cleaned cells in the step\n",
    "            agent.move() # Moves the agent to a new position\n",
    "        self.record(\"Time-Series\", cleaned_cells) # Saves the counter: cleaned_cells to a table clalled Time-Series\n",
    "\n",
    "    def end(self):\n",
    "        cleaned_cells = np.count_nonzero(self.dirty_cells == CLEAN) # Counts all the cleaned cells and sets that value to a veriable\n",
    "        percentage_cleaned = cleaned_cells / np.prod(self.grid_size) * 100 # Check which percentage oc the cells are clean\n",
    "        total_moves = sum(agent.moves for agent in self.agents) # Make the sums of all the movements of the agents and sets that to a variable\n",
    "        manual_results[\"dirty_cells\"] = self.dirty_cells # Save the dirty_cells variable to manual results\n",
    "        manual_results[\"cleaned_cells\"] = cleaned_cells # Save the cleaned_cells variable to manual results\n",
    "        manual_results[\"percentage_cleaned\"] = percentage_cleaned # Save the percentage_cleaned variable to manual results\n",
    "        manual_results[\"total_moves\"] = total_moves # Save the total_moves variable to manual results"
   ]
  },
  {
   "cell_type": "markdown",
   "metadata": {},
   "source": [
    "## Simulation run"
   ]
  },
  {
   "cell_type": "code",
   "execution_count": 255,
   "metadata": {},
   "outputs": [],
   "source": [
    "parameters = {\n",
    "    \"agents\": 5, # Defines the number of agents\n",
    "    \"grid_size\": [5,5], # Defines the size of the map\n",
    "    \"dirty_percentage\": 1, # Percentage of dirty cells | 0 -> 1\n",
    "    \"max_steps\": 100 # Max simulation Time\n",
    "}"
   ]
  },
  {
   "cell_type": "code",
   "execution_count": 256,
   "metadata": {},
   "outputs": [
    {
     "name": "stdout",
     "output_type": "stream",
     "text": [
      "Completed: 100 steps\n",
      "Run time: 0:00:00.002998\n",
      "Simulation finished\n"
     ]
    }
   ],
   "source": [
    "model = RoombaModel(parameters) # Initializes the RoombaModel\n",
    "results = model.run(steps=parameters['max_steps']) # Runs the simulation"
   ]
  },
  {
   "cell_type": "code",
   "execution_count": 257,
   "metadata": {},
   "outputs": [
    {
     "data": {
      "image/png": "[encoded data removed]",
      "text/plain": [
       "<Figure size 600x600 with 1 Axes>"
      ]
     },
     "metadata": {},
     "output_type": "display_data"
    }
   ],
   "source": [
    "plot(f\"Cleaned Cells: {manual_results['cleaned_cells']} | Cleaned: {round(manual_results['percentage_cleaned'])}% | Total Moves: {manual_results['total_moves']}\", manual_results[\"dirty_cells\"]) # Plots the result of the simulation in a board form"
   ]
  },
  {
   "cell_type": "code",
   "execution_count": 258,
   "metadata": {},
   "outputs": [
    {
     "data": {
      "text/html": [
       "<div>\n",
       "<style scoped>\n",
       "    .dataframe tbody tr th:only-of-type {\n",
       "        vertical-align: middle;\n",
       "    }\n",
       "\n",
       "    .dataframe tbody tr th {\n",
       "        vertical-align: top;\n",
       "    }\n",
       "\n",
       "    .dataframe thead th {\n",
       "        text-align: right;\n",
       "    }\n",
       "</style>\n",
       "<table border=\"1\" class=\"dataframe\">\n",
       "  <thead>\n",
       "    <tr style=\"text-align: right;\">\n",
       "      <th></th>\n",
       "      <th>Time-Series</th>\n",
       "    </tr>\n",
       "    <tr>\n",
       "      <th>t</th>\n",
       "      <th></th>\n",
       "    </tr>\n",
       "  </thead>\n",
       "  <tbody>\n",
       "    <tr>\n",
       "      <th>1</th>\n",
       "      <td>1</td>\n",
       "    </tr>\n",
       "    <tr>\n",
       "      <th>2</th>\n",
       "      <td>4</td>\n",
       "    </tr>\n",
       "    <tr>\n",
       "      <th>3</th>\n",
       "      <td>1</td>\n",
       "    </tr>\n",
       "    <tr>\n",
       "      <th>4</th>\n",
       "      <td>1</td>\n",
       "    </tr>\n",
       "    <tr>\n",
       "      <th>5</th>\n",
       "      <td>1</td>\n",
       "    </tr>\n",
       "  </tbody>\n",
       "</table>\n",
       "</div>"
      ],
      "text/plain": [
       "   Time-Series\n",
       "t             \n",
       "1            1\n",
       "2            4\n",
       "3            1\n",
       "4            1\n",
       "5            1"
      ]
     },
     "execution_count": 258,
     "metadata": {},
     "output_type": "execute_result"
    }
   ],
   "source": [
    "results.variables.RoombaModel.head() # Prints the table of the Time-Series Record"
   ]
  },
  {
   "cell_type": "code",
   "execution_count": 260,
   "metadata": {},
   "outputs": [
    {
     "data": {
      "text/plain": [
       "<Axes: xlabel='t'>"
      ]
     },
     "execution_count": 260,
     "metadata": {},
     "output_type": "execute_result"
    },
    {
     "data": {
      "image/png": "[encoded data removed]",
      "text/plain": [
       "<Figure size 640x480 with 1 Axes>"
      ]
     },
     "metadata": {},
     "output_type": "display_data"
    }
   ],
   "source": [
    "results.variables.RoombaModel.plot() # Plots the Time-Series Values"
   ]
  }
 ],
 "metadata": {
  "kernelspec": {
   "display_name": "Python 3",
   "language": "python",
   "name": "python3"
  },
  "language_info": {
   "codemirror_mode": {
    "name": "ipython",
    "version": 3
   },
   "file_extension": ".py",
   "mimetype": "text/x-python",
   "name": "python",
   "nbconvert_exporter": "python",
   "pygments_lexer": "ipython3",
   "version": "3.11.3"
  }
 },
 "nbformat": 4,
 "nbformat_minor": 4
}
