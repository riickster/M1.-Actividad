{
 "cells": [
  {
   "cell_type": "markdown",
   "metadata": {},
   "source": [
    "# Roomba Simulation"
   ]
  },
  {
   "cell_type": "code",
   "execution_count": 170,
   "metadata": {},
   "outputs": [],
   "source": [
    "import agentpy as ap\n",
    "import random\n",
    "import numpy as np\n",
    "import matplotlib.pyplot as plt\n",
    "from matplotlib import colors"
   ]
  },
  {
   "cell_type": "markdown",
   "metadata": {},
   "source": [
    "## Constants"
   ]
  },
  {
   "cell_type": "code",
   "execution_count": 171,
   "metadata": {},
   "outputs": [],
   "source": [
    "# Dirt Constants\n",
    "CLEAN = 0\n",
    "DIRTY = 1\n",
    "\n",
    "# Direction Constants\n",
    "STATIC = [0,0]\n",
    "UP = [0,1]\n",
    "DOWN = [0,-1]\n",
    "LEFT = [-1, 0]\n",
    "RIGHT = [1,0]\n",
    "UP_LEFT = [-1,-1]\n",
    "DOWN_LEFT = [-1,-1]\n",
    "UP_RIGHT = [1,1]\n",
    "DOWN_RIGHT = [1,-1]"
   ]
  },
  {
   "cell_type": "markdown",
   "metadata": {},
   "source": [
    "## Plotter Function"
   ]
  },
  {
   "cell_type": "code",
   "execution_count": 172,
   "metadata": {},
   "outputs": [],
   "source": [
    "def plot(title, data):\n",
    "    cmap = colors.ListedColormap(['White','Sienna'])\n",
    "    plt.figure(figsize=(6,6))\n",
    "    plt.title(title)\n",
    "    plt.pcolor(data[::-1],cmap=cmap, edgecolors='k', linewidths=3)\n",
    "    plt.xticks([])\n",
    "    plt.yticks([])\n",
    "    plt.show()"
   ]
  },
  {
   "cell_type": "markdown",
   "metadata": {},
   "source": [
    "## Model definition"
   ]
  },
  {
   "cell_type": "code",
   "execution_count": 173,
   "metadata": {},
   "outputs": [],
   "source": [
    "class RoombaAgent(ap.Agent):\n",
    "    def setup(self):\n",
    "        self.position = [1,1] # Set initial position\n",
    "        self.moves = 0 # Step Counter\n",
    "\n",
    "    def move(self):\n",
    "        directions = [ UP, DOWN, LEFT, RIGHT, UP_LEFT, DOWN_LEFT, UP_RIGHT, DOWN_RIGHT ] # Set Posible Movements\n",
    "        random_direction = random.choice(directions) # Get a random direction for step\n",
    "        new_position = [self.position[0] + random_direction[0], self.position[1] + random_direction[1]] # Calculate new position adding the new coordinates from random_direction\n",
    "        if(all(-1 < i <= self.model.grid_size[x]-1 for x, i in enumerate(new_position))): # Checks if for every coordinate from new_positions its a valid coordinate\n",
    "            self.position = new_position # Replaces old position from new position\n",
    "            self.moves+=1 # Register a step\n"
   ]
  },
  {
   "cell_type": "code",
   "execution_count": 174,
   "metadata": {},
   "outputs": [],
   "source": [
    "manual_results = {}\n",
    "\n",
    "class RoombaModel(ap.Model):\n",
    "    def setup(self):\n",
    "        self.grid_size = self.p.grid_size\n",
    "        self.agents = ap.AgentList(self, self.p.agents, RoombaAgent)\n",
    "        self.dirty_cells = np.random.choice([CLEAN,DIRTY], self.grid_size, p=[1-self.p.dirty_percentage, self.p.dirty_percentage])\n",
    "        #plot(f\"Original Board\", self.dirty_cells)\n",
    "        #print(self.dirty_cells)\n",
    "\n",
    "    def step(self):\n",
    "        cleaned_cells = 0\n",
    "        for agent in self.agents:\n",
    "            if(self.dirty_cells[tuple(agent.position)]):\n",
    "                self.dirty_cells[tuple(agent.position)] = CLEAN\n",
    "                cleaned_cells+=1\n",
    "            self.record(\"Time-Series\", cleaned_cells)\n",
    "            agent.move()\n",
    "\n",
    "    def end(self):\n",
    "        cleaned_cells = np.count_nonzero(self.dirty_cells == CLEAN)\n",
    "        percentage_cleaned = cleaned_cells / np.prod(self.grid_size) * 100\n",
    "        total_moves = sum(agent.moves for agent in self.agents)\n",
    "        manual_results[\"dirty_cells\"] = self.dirty_cells\n",
    "        manual_results[\"cleaned_cells\"] = cleaned_cells\n",
    "        manual_results[\"percentage_cleaned\"] = percentage_cleaned\n",
    "        manual_results[\"total_moves\"] = total_moves\n",
    "        print(self.dirty_cells)"
   ]
  },
  {
   "cell_type": "markdown",
   "metadata": {},
   "source": [
    "## Simulation run"
   ]
  },
  {
   "cell_type": "code",
   "execution_count": 175,
   "metadata": {},
   "outputs": [],
   "source": [
    "parameters = {\n",
    "    \"agents\": 5,\n",
    "    \"grid_size\": [5,5],\n",
    "    \"dirty_percentage\": 1,\n",
    "    \"max_steps\": 100\n",
    "}"
   ]
  },
  {
   "cell_type": "code",
   "execution_count": 176,
   "metadata": {},
   "outputs": [
    {
     "name": "stdout",
     "output_type": "stream",
     "text": [
      "Completed: 100 steps[[0 0 0 0 0]\n",
      " [0 0 0 0 0]\n",
      " [0 0 0 0 0]\n",
      " [0 0 0 0 0]\n",
      " [0 0 0 0 0]]\n",
      "\n",
      "Run time: 0:00:00.005004\n",
      "Simulation finished\n"
     ]
    }
   ],
   "source": [
    "model = RoombaModel(parameters)\n",
    "results = model.run(steps=parameters['max_steps'])"
   ]
  },
  {
   "cell_type": "code",
   "execution_count": 177,
   "metadata": {},
   "outputs": [
    {
     "data": {
      "image/png": "[encoded data removed]",
      "text/plain": [
       "<Figure size 600x600 with 1 Axes>"
      ]
     },
     "metadata": {},
     "output_type": "display_data"
    }
   ],
   "source": [
    "plot(f\"Cleaned Cells: {manual_results['cleaned_cells']} | Cleaned: {round(manual_results['percentage_cleaned'])}% | Total Moves: {manual_results['total_moves']}\", manual_results[\"dirty_cells\"])"
   ]
  },
  {
   "cell_type": "code",
   "execution_count": 178,
   "metadata": {},
   "outputs": [
    {
     "data": {
      "text/html": [
       "<div>\n",
       "<style scoped>\n",
       "    .dataframe tbody tr th:only-of-type {\n",
       "        vertical-align: middle;\n",
       "    }\n",
       "\n",
       "    .dataframe tbody tr th {\n",
       "        vertical-align: top;\n",
       "    }\n",
       "\n",
       "    .dataframe thead th {\n",
       "        text-align: right;\n",
       "    }\n",
       "</style>\n",
       "<table border=\"1\" class=\"dataframe\">\n",
       "  <thead>\n",
       "    <tr style=\"text-align: right;\">\n",
       "      <th></th>\n",
       "      <th>Time-Series</th>\n",
       "    </tr>\n",
       "    <tr>\n",
       "      <th>t</th>\n",
       "      <th></th>\n",
       "    </tr>\n",
       "  </thead>\n",
       "  <tbody>\n",
       "    <tr>\n",
       "      <th>1</th>\n",
       "      <td>1</td>\n",
       "    </tr>\n",
       "    <tr>\n",
       "      <th>2</th>\n",
       "      <td>4</td>\n",
       "    </tr>\n",
       "    <tr>\n",
       "      <th>3</th>\n",
       "      <td>1</td>\n",
       "    </tr>\n",
       "    <tr>\n",
       "      <th>4</th>\n",
       "      <td>0</td>\n",
       "    </tr>\n",
       "    <tr>\n",
       "      <th>5</th>\n",
       "      <td>1</td>\n",
       "    </tr>\n",
       "  </tbody>\n",
       "</table>\n",
       "</div>"
      ],
      "text/plain": [
       "   Time-Series\n",
       "t             \n",
       "1            1\n",
       "2            4\n",
       "3            1\n",
       "4            0\n",
       "5            1"
      ]
     },
     "execution_count": 178,
     "metadata": {},
     "output_type": "execute_result"
    }
   ],
   "source": [
    "results.variables.RoombaModel.head()"
   ]
  },
  {
   "cell_type": "code",
   "execution_count": 179,
   "metadata": {},
   "outputs": [
    {
     "data": {
      "image/png": "[encoded data removed]",
      "text/plain": [
       "<Figure size 640x480 with 1 Axes>"
      ]
     },
     "metadata": {},
     "output_type": "display_data"
    }
   ],
   "source": [
    "data = results.variables.RoombaModel\n",
    "ax = data.plot()"
   ]
  }
 ],
 "metadata": {
  "kernelspec": {
   "display_name": "Python 3",
   "language": "python",
   "name": "python3"
  },
  "language_info": {
   "codemirror_mode": {
    "name": "ipython",
    "version": 3
   },
   "file_extension": ".py",
   "mimetype": "text/x-python",
   "name": "python",
   "nbconvert_exporter": "python",
   "pygments_lexer": "ipython3",
   "version": "3.11.3"
  }
 },
 "nbformat": 4,
 "nbformat_minor": 4
}
